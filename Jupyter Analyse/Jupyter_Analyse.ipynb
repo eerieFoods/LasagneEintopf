{
 "cells": [
  {
   "cell_type": "markdown",
   "id": "135343a9-af8c-4d4f-aa30-c054c5ce2fcf",
   "metadata": {},
   "source": [
    "Baue die Verbindung zur MongoDB auf:"
   ]
  },
  {
   "cell_type": "code",
   "execution_count": null,
   "id": "6353418b-f665-4224-9300-85250558394d",
   "metadata": {},
   "outputs": [],
   "source": [
    "import pymongo\n",
    "from pymongo import MongoClient\n",
    "import pandas as pd\n",
    "\n",
    "# after that\n",
    "#we make connection to our MongoDB Database\n",
    "user = \"root\" # - your login\n",
    "password = \"BigDataAnalysisDatabase\" # - your password \n",
    "host = \"eeriefoods.de\" # - it's ip address , where database is located \n",
    "port = 27017 # standart port\n",
    "database = 'BDA' # name of your database's\n",
    "\n",
    "# make our connection\n",
    "client = MongoClient(f'mongodb://{user}:{password}@{host}:{port}/') #url and port where located your Mong\n",
    "\n",
    "# Use our database\n",
    "db = client['BDA']\n",
    "\n",
    "print(\"database connected\")\n"
   ]
  },
  {
   "cell_type": "markdown",
   "id": "77da9497-61a8-4830-b761-814f52e4bbe9",
   "metadata": {},
   "source": [
    "Lade die historischen täglichen Ölpreise aus der Datenbank:"
   ]
  },
  {
   "cell_type": "code",
   "execution_count": null,
   "id": "2e2911b0-bfe2-4159-b9ca-264a2466c440",
   "metadata": {},
   "outputs": [],
   "source": [
    "for document in db[\"OilPricesDaily\"].find():\n",
    "    print(\"dokument aus DB geladen\")\n",
    "    print(document)"
   ]
  },
  {
   "cell_type": "markdown",
   "id": "fc783ed5-107e-469a-ac8c-1964030f001f",
   "metadata": {},
   "source": [
    "Ersetze fehlende Werte in historischen Öldaten durch Werte vom Vortag:"
   ]
  },
  {
   "cell_type": "code",
   "execution_count": null,
   "id": "b775c3c1-6dff-4e43-9bf7-d2049ec0c7b5",
   "metadata": {},
   "outputs": [],
   "source": [
    "import pandas as pd\n",
    "\n",
    "# Variablendefinition\n",
    "seperator = '    '\n",
    "last_value = 0\n",
    "corrected_Oildata = document['data']\n",
    "\n",
    "print('Geänderte Datensätze:')\n",
    "print('Datum      Alter Wert  Neuer Wert')\n",
    "\n",
    "# ersetze fehlende Daten durch Wert am Vortag\n",
    "for i in reversed(range(len(corrected_Oildata))):\n",
    "    if corrected_Oildata[i]['value'] == '.':\n",
    "        print (corrected_Oildata[i]['date'],seperator,corrected_Oildata[i]['value'],seperator,last_value)\n",
    "        corrected_Oildata[i]['value'] = last_value\n",
    "        \n",
    "    last_value = corrected_Oildata[i]['value']\n",
    "\n",
    "\n",
    "# erzeuge DataFrame für korrigierte Öldaten\n",
    "dfOil = pd.DataFrame(corrected_Oildata)\n",
    "dfOil['date'] = pd.to_datetime(dfOil['date'])\n",
    "dfOil = dfOil.apply(pd.to_numeric)\n",
    "dfOil['date'] = pd.to_datetime(dfOil['date'])\n",
    "\n",
    "print('DataFrame:')\n",
    "print(dfOil)"
   ]
  },
  {
   "cell_type": "markdown",
   "id": "efe5592a-2ea2-45b5-849f-38f7d1be611e",
   "metadata": {},
   "source": [
    "Lade historische Tankdaten aus Tankpreise_ADAC.csv:"
   ]
  },
  {
   "cell_type": "code",
   "execution_count": null,
   "id": "22e50e97-0e1b-4114-8da7-fc65c318a293",
   "metadata": {},
   "outputs": [],
   "source": [
    "# lade Tankdaten aus CSV-Datei\n",
    "gas_prices = pd.read_csv('Tankpreise_adac.csv',sep = ';')\n",
    "\n",
    "\n",
    "# rechne alte Werte in DM in EUR um\n",
    "i=0\n",
    "while gas_prices['Datum'][i][6:] < '2002':\n",
    "    gas_prices['Diesel'][i] = gas_prices['Diesel'][i] / 1.95583\n",
    "    gas_prices['Benzin'][i] = gas_prices['Benzin'][i] / 1.95583\n",
    "    i = i+1\n",
    "\n",
    "# erzeuge DataFrame für Tankdaten\n",
    "dfGas = pd.DataFrame(gas_prices)\n",
    "dfGas['Datum'] = pd.to_datetime(dfGas['Datum'],dayfirst=True)\n",
    "\n",
    "print('DataFrame:')\n",
    "print(dfGas)"
   ]
  },
  {
   "cell_type": "markdown",
   "id": "28ea74a0-45d7-4972-8245-748c42c274d6",
   "metadata": {},
   "source": [
    "Zeichne Graph mit Ölpreisen und Tankpreisen seit 1987:"
   ]
  },
  {
   "cell_type": "code",
   "execution_count": null,
   "id": "e189bcdc-1fe6-4290-97a2-58985591349a",
   "metadata": {},
   "outputs": [],
   "source": [
    "import matplotlib.pyplot as plt\n",
    "\n",
    "# Variablendefinition für plot\n",
    "days = len(corrected_Oildata)\n",
    "oil_date = dfOil['date'][::-1]\n",
    "oil_price = dfOil['value'][::-1]\n",
    "\n",
    "# Achsenbeschriftung für plot\n",
    "plt.title(\"Rohölpreise/Tankpreise\", size=\"x-large\")\n",
    "plt.ylabel(\"Preis\")\n",
    "plt.xlabel(\"Zeit\")\n",
    "\n",
    "# erzeuge plot\n",
    "plt.plot(oil_date,oil_price,label='Brent: USD pro Barrel')\n",
    "plt.plot(dfGas['Datum'],dfGas['Diesel'],label='Diesel: ct pro l')\n",
    "plt.plot(dfGas['Datum'],dfGas['Benzin'],label='Benzin: ct pro l')\n",
    "\n",
    "plt.legend()\n",
    "\n",
    "plt.show()\n"
   ]
  },
  {
   "cell_type": "markdown",
   "id": "b63819cc-f009-4250-a648-673987c2c642",
   "metadata": {},
   "source": [
    "Zeichne Graph mit Ölpreisen und Tankpreisen für die letzten x-Jahre:\n",
    "Bearbeite hierfür die Variable \"years\""
   ]
  },
  {
   "cell_type": "code",
   "execution_count": null,
   "id": "b74b9a00-9266-4e5c-85cc-981a40369dda",
   "metadata": {},
   "outputs": [],
   "source": [
    "import matplotlib.pyplot as plt\n",
    "\n",
    "# Gib die Anzhal der Jahre ein\n",
    "years = 4   # max 36\n",
    "\n",
    "\n",
    "# rechne Jahre in Werktage und Monate um\n",
    "days = years * 261\n",
    "\n",
    "if years <= 24:\n",
    "    month = years * 12\n",
    "else:\n",
    "    month = 24*12+(years-24)\n",
    "\n",
    "\n",
    "# spiegele Arrays für Öldaten\n",
    "oil_date = dfOil['date'][::-1]\n",
    "oil_price = dfOil['value'][::-1]\n",
    "\n",
    "# Achsenbeschriftung für plot\n",
    "plt.title(\"Rohölpreise/Benzinpreise\", size=\"x-large\")\n",
    "plt.ylabel(\"USD pro Barrel\")\n",
    "plt.xlabel(\"Zeit\")\n",
    "\n",
    "# erzeuge plot\n",
    "plt.plot(oil_date[-days:],oil_price[-days:],label='Brent: USD pro Barrel')\n",
    "plt.plot(dfGas['Datum'][-month:],dfGas['Diesel'][-month:],label='Diesel: ct pro l')\n",
    "plt.plot(dfGas['Datum'][-month:],dfGas['Benzin'][-month:],label='Benzin: ct pro l')\n",
    "\n",
    "plt.legend()\n",
    "\n",
    "plt.show()\n"
   ]
  },
  {
   "cell_type": "markdown",
   "id": "96c5ef88-e9cf-42bd-9f57-bcceb25e583f",
   "metadata": {},
   "source": [
    "Historische Öldaten werden nach Monaten gruppiert und es wird der Durchschnitt pro Monat gebildet.\n",
    "Dies ist eine Vorarbeit für die Berechnung der Korrelation zwichen Ölpreisen und Tankpreisen.\n",
    "Die Ölpreise müssen für die Berechnung der Korrelation monatsweise vorliegen, da die Tankpreise ebenfalls nur monatlich erfasst wurden."
   ]
  },
  {
   "cell_type": "code",
   "execution_count": null,
   "id": "f00c0ee4-ec4a-4c6e-bc67-ae56cc879ba9",
   "metadata": {},
   "outputs": [],
   "source": [
    "# gruppiere Öldaten nach Jahren/Monaten\n",
    "groupedOil= dfOil.groupby(dfOil.date.dt.to_period(\"M\"))\n",
    "\n",
    "#bilde Durchschnittswert pro Monat\n",
    "averageOil = groupedOil['value'].mean()\n",
    "averageOil"
   ]
  },
  {
   "cell_type": "markdown",
   "id": "eafb30db-3388-43b1-87fe-be445a51fb96",
   "metadata": {},
   "source": [
    "Berechne den Korrelationkoeffizienten für Rohöl und Diesel seit 1987:"
   ]
  },
  {
   "cell_type": "code",
   "execution_count": null,
   "id": "4020b5c5-38f4-4b98-871a-099235eaa2e2",
   "metadata": {},
   "outputs": [],
   "source": [
    "import numpy as np\n",
    "# Korrelation Diesel\n",
    "\n",
    "# Anzahl der Jahre, welche für Korrelation berücksichtigt werden\n",
    "years = 24      # max 24\n",
    "\n",
    "month = years * 12\n",
    "\n",
    "# berechne Korrelationskoeffizienten\n",
    "coef = np.corrcoef(averageOil[-month:], gas_prices['Diesel'][-month:])[0,1]\n",
    "\n",
    "print('Korrelationskoeffizient: ',coef)"
   ]
  },
  {
   "cell_type": "markdown",
   "id": "b03c610f-3a8e-4ce6-80bd-8560bbdc0f66",
   "metadata": {},
   "source": [
    "Berechne den Korrelationkoeffizienten für Rohöl und Benzin seit 1987:"
   ]
  },
  {
   "cell_type": "code",
   "execution_count": null,
   "id": "9e224a47-1086-4fc1-b226-cad9a922cb62",
   "metadata": {},
   "outputs": [],
   "source": [
    "# Korrelation Benzin\n",
    "\n",
    "# Anzahl der Jahre, welche für Korrelation berücksichtigt werden\n",
    "years = 24      # max 24\n",
    "\n",
    "month = years * 12\n",
    "\n",
    "# berechne Korrelationskoeffizienten\n",
    "coef = np.corrcoef(averageOil[-month:], gas_prices['Benzin'][-month:])[0,1]\n",
    "\n",
    "print('Korrelationskoeffizient: ',coef)"
   ]
  },
  {
   "cell_type": "markdown",
   "id": "38543c55-163b-4b7a-b98b-0a74bddf32aa",
   "metadata": {},
   "source": [
    "Stelle die Korrelationskoeffizienten für Rohöl/Diesel und für Rohöl/Benzin als zeitlichen Verlauf dar:"
   ]
  },
  {
   "cell_type": "code",
   "execution_count": null,
   "id": "2b95185c-1b8b-45ce-be20-496ed70210f3",
   "metadata": {},
   "outputs": [],
   "source": [
    "import datetime\n",
    "\n",
    "year = []\n",
    "coefDiesel = []\n",
    "coefGas = []\n",
    "month = 12\n",
    "\n",
    "today = datetime.datetime.now().date()\n",
    "currentYear = int(today.strftime('%Y'))\n",
    "\n",
    "# kummuliert\n",
    "for i in range(currentYear,1999,-1):\n",
    "    year.append(i)\n",
    "    coefVar = np.corrcoef(averageOil[-month:], gas_prices['Benzin'][-month:])[0,1]\n",
    "    coefGas.append(coefVar)\n",
    "    coefVar = np.corrcoef(averageOil[-month:], gas_prices['Diesel'][-month:])[0,1]\n",
    "    coefDiesel.append(coefVar)\n",
    "    month = month + 12\n",
    "\n",
    "#for i in range(2000,currentYear + 1):\n",
    "#    coefVar = np.corrcoef(averageOil[month-12:month], gas_prices['Benzin'][month-12:month])[0,1]\n",
    "#    year.append(i)\n",
    "#    coef.append(coefVar)\n",
    "#    month = month + 12\n",
    "\n",
    "\n",
    "# Achsenbeschriftung für plot\n",
    "plt.title(\"Korrelationsentwicklung\", size=\"x-large\")\n",
    "plt.ylabel(\"Korrelationskoeffizient\")\n",
    "plt.xlabel(\"Zeit\")\n",
    "\n",
    "# erzeuge plot\n",
    "plt.plot(year,coefGas,label='Rohöl/Benzin')\n",
    "plt.plot(year,coefDiesel,label='Rohöl/Diesel')\n",
    "\n",
    "plt.legend()\n",
    "\n",
    "plt.show()\n",
    "  \n"
   ]
  },
  {
   "cell_type": "markdown",
   "id": "2a30b124-b86d-44a3-b181-9eb1718f366d",
   "metadata": {},
   "source": [
    "Lade die Tankdaten der Tankerkönig API aus der MongoDB:"
   ]
  },
  {
   "cell_type": "code",
   "execution_count": null,
   "id": "f9c42b3f-d233-4835-97c3-6bb1cfc86911",
   "metadata": {},
   "outputs": [],
   "source": [
    "from datetime import datetime\n",
    "\n",
    "avg_diesel = []\n",
    "avg_e10 = []\n",
    "date = []\n",
    "\n",
    "for i in db[\"tankerkoenig\"].find():\n",
    "    date.append(datetime.utcfromtimestamp(i['time']).strftime('%Y-%m-%d %H:%M:%S'))\n",
    "    avg_diesel.append(i['avg_diesel'])\n",
    "    avg_e10.append(i['avg_e10'])\n",
    "\n",
    "print (date)\n",
    "\n"
   ]
  },
  {
   "cell_type": "markdown",
   "id": "cf5f10b7-a16d-4445-908a-7310d1eec648",
   "metadata": {},
   "source": [
    "Stelle die Tankdaten der Tankerkönig API graphisch dar:"
   ]
  },
  {
   "cell_type": "code",
   "execution_count": null,
   "id": "a45f8ac8-68e9-4f44-a79a-382f4cb4ee07",
   "metadata": {},
   "outputs": [],
   "source": [
    "plt.title(\"E10 / Diesel Preise\", size=\"x-large\")\n",
    "plt.ylabel(\"Preis in €\")\n",
    "plt.xlabel(\"Zeit\")\n",
    "\n",
    "plt.plot(date,avg_e10,label='E10')\n",
    "plt.plot(date,avg_diesel,label='Diesel')\n",
    "    \n",
    "plt.legend()\n",
    "\n",
    "plt.show()"
   ]
  },
  {
   "cell_type": "markdown",
   "id": "dd697bd1-57dd-4349-bd75-1f766456ea07",
   "metadata": {},
   "source": [
    "Lade die 5-minütlich erfassten Rohöldaten aus der MongoDB:"
   ]
  },
  {
   "cell_type": "code",
   "execution_count": null,
   "id": "ac94b2b7-51c3-4696-88d4-b53fad3e5a91",
   "metadata": {},
   "outputs": [],
   "source": [
    "oil_date2 = []\n",
    "\n",
    "for i in db[\"OilPrices\"].find():\n",
    "    print (i['Time Series (5min)'])\n"
   ]
  },
  {
   "cell_type": "code",
   "execution_count": null,
   "id": "48681cb5-4d7f-4329-bf61-083cbfdb613d",
   "metadata": {},
   "outputs": [],
   "source": []
  }
 ],
 "metadata": {
  "kernelspec": {
   "display_name": "Python 3 (ipykernel)",
   "language": "python",
   "name": "python3"
  },
  "language_info": {
   "codemirror_mode": {
    "name": "ipython",
    "version": 3
   },
   "file_extension": ".py",
   "mimetype": "text/x-python",
   "name": "python",
   "nbconvert_exporter": "python",
   "pygments_lexer": "ipython3",
   "version": "3.10.0"
  }
 },
 "nbformat": 4,
 "nbformat_minor": 5
}
