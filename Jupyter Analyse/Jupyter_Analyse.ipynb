{
 "cells": [
  {
   "cell_type": "code",
   "execution_count": null,
   "id": "99115ced-2f36-4970-adf0-b38b2c4661ec",
   "metadata": {},
   "outputs": [],
   "source": [
    "%pip install pymongo pandas numpy matplotlib"
   ]
  },
  {
   "cell_type": "markdown",
   "id": "135343a9-af8c-4d4f-aa30-c054c5ce2fcf",
   "metadata": {},
   "source": [
    "#### Baue die Verbindung zur MongoDB auf:"
   ]
  },
  {
   "cell_type": "code",
   "execution_count": null,
   "id": "6353418b-f665-4224-9300-85250558394d",
   "metadata": {},
   "outputs": [],
   "source": [
    "from pymongo import MongoClient\n",
    "\n",
    "# after that\n",
    "#we make connection to our MongoDB Database\n",
    "user = \"root\" # - your login\n",
    "password = \"BigDataAnalysisDatabase\" # - your password \n",
    "host = \"eeriefoods.de\" # - it's ip address , where database is located \n",
    "port = 27017 # standart port\n",
    "database = 'BDA' # name of your database's\n",
    "\n",
    "# make our connection\n",
    "client = MongoClient(f'mongodb://{user}:{password}@{host}:{port}/') #url and port where located your Mong\n",
    "\n",
    "# Use our database\n",
    "db = client['BDA']\n",
    "\n",
    "print(\"database connected\")"
   ]
  },
  {
   "cell_type": "markdown",
   "id": "2a30b124-b86d-44a3-b181-9eb1718f366d",
   "metadata": {},
   "source": [
    "#### Lade die Tankdaten der Tankerkönig API aus der MongoDB:"
   ]
  },
  {
   "cell_type": "code",
   "execution_count": null,
   "id": "cc2656d3-decc-4733-a243-74eef26b69a5",
   "metadata": {},
   "outputs": [],
   "source": [
    "import pandas as pd\n",
    "from datetime import datetime\n",
    "\n",
    "avg_diesel = []\n",
    "avg_benzin = []\n",
    "gas_date = []\n",
    "\n",
    "for document in db[\"tankerkoenig\"].find():\n",
    "    gas_date.append(pd.to_datetime(datetime.utcfromtimestamp(document['time']).strftime('%Y-%m-%d %H:%M:%S')))\n",
    "    avg_diesel.append(document['avg_diesel'])\n",
    "    avg_benzin.append(document['avg_e10'])\n",
    "\n",
    "print (\"data loaded\")"
   ]
  },
  {
   "cell_type": "markdown",
   "id": "fade3dfd-5fd4-4edf-b9b2-fdb4a3d72b04",
   "metadata": {},
   "source": [
    "#### Stelle die Tankdaten der Tankerkönig API graphisch dar:"
   ]
  },
  {
   "cell_type": "code",
   "execution_count": null,
   "id": "3fa92e48-62a2-4cf4-b0af-405c74713748",
   "metadata": {},
   "outputs": [],
   "source": [
    "import matplotlib.pyplot as plt\n",
    "\n",
    "fig, ax = plt.subplots(figsize=(10, 4), layout=\"constrained\")\n",
    "\n",
    "plt.title(\"Benzin / Diesel Preise\", size=\"x-large\")\n",
    "plt.ylabel(\"Preis in €\")\n",
    "plt.xlabel(\"Zeit\")\n",
    "\n",
    "plt.plot(gas_date,avg_benzin,label='Benzin')\n",
    "plt.plot(gas_date,avg_diesel,label='Diesel')\n",
    "    \n",
    "plt.legend()\n",
    "\n",
    "plt.show()"
   ]
  },
  {
   "cell_type": "markdown",
   "id": "adb5f466-4bf5-4551-9ab3-5547efde7e2f",
   "metadata": {},
   "source": [
    "#### Lade die 5-minütlich erfassten Rohöldaten aus der MongoDB:"
   ]
  },
  {
   "cell_type": "code",
   "execution_count": null,
   "id": "041b1089-eebb-4f7e-b728-a3bb4d705eb5",
   "metadata": {},
   "outputs": [],
   "source": [
    "\n",
    "#Variablendefinition\n",
    "oil_data = []\n",
    "time_keys = []\n",
    "\n",
    "#Alle Dokumente der Collection durchlaufen\n",
    "for document in db[\"OilPrices\"].find():\n",
    "    time_keys = list(document[\"Time Series (5min)\"].keys())\n",
    "\n",
    "    # Alle Time keys des Dokuments durchlaufen und in Array schreiben\n",
    "    for time_key in time_keys:\n",
    "        oil_data.append([pd.to_datetime(time_key),pd.to_numeric(document[\"Time Series (5min)\"][time_key][\"4. close\"])])\n",
    "\n",
    "#nach Datum und Uhrzeit sortieren\n",
    "oil_data.sort(key=lambda x: x[0])\n",
    "\n",
    "print(\"data loaded\")"
   ]
  },
  {
   "cell_type": "markdown",
   "id": "ebd4c93f-beba-4b65-8f8d-365385e5997e",
   "metadata": {},
   "source": [
    "#### Stelle Rohöldaten graphisch dar:"
   ]
  },
  {
   "cell_type": "code",
   "execution_count": null,
   "id": "24bc7639-1ada-47cb-8729-113aadbe531e",
   "metadata": {},
   "outputs": [],
   "source": [
    "# Achsenbeschriftung für plot\n",
    "\n",
    "oil_date = []\n",
    "oil_price = []\n",
    "\n",
    "for i in range(len(oil_data)):\n",
    "    oil_date.append(oil_data[i][0])\n",
    "    oil_price.append(oil_data[i][1])\n",
    "\n",
    "fig, ax = plt.subplots(figsize=(10, 4), layout=\"constrained\")\n",
    "\n",
    "plt.title(\"Rohölpreis\", size=\"x-large\")\n",
    "plt.ylabel(\"Preis in USD\")\n",
    "plt.xlabel(\"Zeit\")\n",
    "\n",
    "# erzeuge plot\n",
    "plt.plot(oil_date,oil_price,label='Rohöl')\n",
    "\n",
    "\n",
    "plt.legend()\n",
    "\n",
    "plt.show()"
   ]
  },
  {
   "cell_type": "markdown",
   "id": "6bbcfe79-2078-475b-829a-7ef27cefc42c",
   "metadata": {},
   "source": [
    "#### Bearbeite Rohölpreise und Tankpreise:\n",
    "- bei Tankpreisen den Steueranteil (laut https://www.mobil.org/sprit-steuerrechner-co2-steuer/) rausrechnen\n",
    "- Rohölpreisen von Barrel auf Liter umrechnen\n",
    "- Rohölpreisen von USD auf EUR umrechnen"
   ]
  },
  {
   "cell_type": "code",
   "execution_count": null,
   "id": "0b5f22dc-e05b-460c-a266-edb7a4a46536",
   "metadata": {},
   "outputs": [],
   "source": [
    "USD_TO_EUR = 1.08\n",
    "DIESEL_TAX = 0.5193\n",
    "BENZIN_TAX = 0.4205\n",
    "BARREL_TO_LITER = 159\n",
    "\n",
    "avg_diesel_net = avg_diesel.copy()\n",
    "avg_benzin_net = avg_benzin.copy()\n",
    "oil_price_lit = oil_price.copy()\n",
    "\n",
    "\n",
    "# Bei Tankpreisen den Steueranteil rausrechnen:\n",
    "for i in range(len(avg_diesel)):\n",
    "    # für Diesel 48.07% abziehen\n",
    "    avg_diesel_net[i] = avg_diesel[i] * DIESEL_TAX\n",
    "    \n",
    "    # für Benzin 57.95% abziehen\n",
    "    avg_benzin_net[i] = avg_benzin[i] * BENZIN_TAX\n",
    "\n",
    "# Rohölpreise von Barrel auf Liter und von USD auf EUR umrechnen\n",
    "for i in range(len(oil_price)):\n",
    "    oil_price_lit[i] = (oil_price[i] / BARREL_TO_LITER) / USD_TO_EUR\n"
   ]
  },
  {
   "cell_type": "markdown",
   "id": "2ef19c68-a170-4761-9219-9af68a654b45",
   "metadata": {},
   "source": [
    "#### Stelle bearbeitete Rohölpreise und Tankpreise graphisch dar:"
   ]
  },
  {
   "cell_type": "code",
   "execution_count": null,
   "id": "6b3d6eb3-4f2a-4745-a7a5-4070dc011f73",
   "metadata": {},
   "outputs": [],
   "source": [
    "fig, ax = plt.subplots(figsize=(10, 4), layout=\"constrained\")\n",
    "\n",
    "plt.title(\"Tank- Ölpreise\", size=\"x-large\")\n",
    "plt.ylabel(\"Preis in € pro Liter\")\n",
    "plt.xlabel(\"Zeit\")\n",
    "\n",
    "plt.plot(oil_date,oil_price_lit,label='Rohöl')\n",
    "plt.plot(gas_date,avg_diesel_net,label='Diesel')\n",
    "plt.plot(gas_date,avg_benzin_net,label='Benzin')\n",
    "    \n",
    "plt.legend()\n",
    "\n",
    "plt.show()"
   ]
  },
  {
   "cell_type": "markdown",
   "id": "fb103112-8285-4cad-8cb9-b470c561b798",
   "metadata": {},
   "source": [
    "#### Berechne Profit"
   ]
  },
  {
   "cell_type": "code",
   "execution_count": null,
   "id": "05c551cb-7aea-48c7-9456-ce1634604a0d",
   "metadata": {},
   "outputs": [],
   "source": [
    "import numpy as np\n",
    "\n",
    "fig, ax = plt.subplots(figsize=(10, 5), layout=\"constrained\")\n",
    "\n",
    "\n",
    "data_oil = pd.Series(data=oil_price_lit, index=oil_date)\n",
    "data_diesel = pd.Series(data=avg_diesel_net, index=gas_date)\n",
    "data_benzin = pd.Series(data=avg_benzin_net, index=gas_date)\n",
    "\n",
    "RESAMPLE = 'W'\n",
    "\n",
    "oil_resampled = data_oil.resample(RESAMPLE).mean()\n",
    "diesel_resampeled = data_diesel.resample(RESAMPLE).mean()\n",
    "benzin_resampeled = data_benzin.resample(RESAMPLE).mean()\n",
    "\n",
    "diesel_diff = np.subtract(diesel_resampeled,oil_resampled)\n",
    "benzin_diff = np.subtract(benzin_resampeled,oil_resampled)\n",
    "\n",
    "oil_resampled.plot(label=\"Rohölpreis\", title=\"Geglättete Rohölpreis vs. Tankpreise\")\n",
    "diesel_resampeled.plot(label=\"Dieselpreis\", xlabel=\"Zeit\", ylabel=\"Preis in €\")\n",
    "benzin_resampeled.plot(label=\"Benzinpreis\")\n",
    "\n",
    "diesel_diff.plot(label=\"Profit Diesel\")\n",
    "benzin_diff.plot(label=\"Profit Benzin\")\n",
    "\n",
    "plt.legend(bbox_to_anchor=(1.04, 1), loc=\"upper left\")\n",
    "plt.show()\n",
    "\n"
   ]
  },
  {
   "cell_type": "markdown",
   "id": "053af49a-d505-48a5-8659-e1500b5c6d57",
   "metadata": {},
   "source": [
    "#### Durchschnittswerte des Profits berechnen"
   ]
  },
  {
   "cell_type": "code",
   "execution_count": null,
   "id": "34989cc1-2bee-4885-aedd-bfa170846c7c",
   "metadata": {},
   "outputs": [],
   "source": [
    "avg_benzin = np.average(benzin_diff)\n",
    "print(f\"Benzin: {avg_benzin:.4f} € pro Liter\")\n",
    "avg_diesel = np.average(diesel_diff)\n",
    "print(f\"Diesel: {avg_diesel:.4f} € pro Liter\")"
   ]
  },
  {
   "cell_type": "markdown",
   "id": "77da9497-61a8-4830-b761-814f52e4bbe9",
   "metadata": {},
   "source": [
    "#### Lade die historischen täglichen Ölpreise aus der Datenbank:"
   ]
  },
  {
   "cell_type": "code",
   "execution_count": null,
   "id": "64082e3a",
   "metadata": {},
   "outputs": [],
   "source": [
    "for document in db[\"OilPricesDaily\"].find():\n",
    "    print(\"data loaded\")"
   ]
  },
  {
   "cell_type": "markdown",
   "id": "fc783ed5-107e-469a-ac8c-1964030f001f",
   "metadata": {},
   "source": [
    "#### Ersetze fehlende Werte in historischen Öldaten durch Werte vom Vortag:"
   ]
  },
  {
   "cell_type": "code",
   "execution_count": null,
   "id": "b775c3c1-6dff-4e43-9bf7-d2049ec0c7b5",
   "metadata": {},
   "outputs": [],
   "source": [
    "# Variablendefinition\n",
    "seperator = '    '\n",
    "last_value = 0\n",
    "corrected_Oildata = document['data']\n",
    "\n",
    "print('Geänderte Datensätze:')\n",
    "print('Datum      Alter Wert  Neuer Wert')\n",
    "\n",
    "# ersetze fehlende Daten durch Wert am Vortag\n",
    "for i in reversed(range(len(corrected_Oildata))):\n",
    "    if corrected_Oildata[i]['value'] == '.':\n",
    "        print (corrected_Oildata[i]['date'],seperator,corrected_Oildata[i]['value'],seperator,last_value)\n",
    "        corrected_Oildata[i]['value'] = last_value\n",
    "        \n",
    "    last_value = corrected_Oildata[i]['value']\n",
    "\n",
    "\n",
    "# erzeuge DataFrame für korrigierte Öldaten\n",
    "dfOil = pd.DataFrame(corrected_Oildata)\n",
    "dfOil['date'] = pd.to_datetime(dfOil['date'])\n",
    "dfOil = dfOil.apply(pd.to_numeric)\n",
    "dfOil['date'] = pd.to_datetime(dfOil['date'])\n"
   ]
  },
  {
   "cell_type": "markdown",
   "id": "efe5592a-2ea2-45b5-849f-38f7d1be611e",
   "metadata": {},
   "source": [
    "#### Lade historische Tankdaten aus Tankpreise_ADAC.csv:"
   ]
  },
  {
   "cell_type": "code",
   "execution_count": null,
   "id": "22e50e97-0e1b-4114-8da7-fc65c318a293",
   "metadata": {},
   "outputs": [],
   "source": [
    "# lade Tankdaten aus CSV-Datei\n",
    "gas_prices = pd.read_csv('Tankpreise_ADAC.csv',sep = ';')\n",
    "\n",
    "\n",
    "# rechne alte Werte in DM in EUR um\n",
    "i=0\n",
    "while gas_prices['Datum'][i][6:] < '2002':\n",
    "    gas_prices['Diesel'][i] = gas_prices['Diesel'][i] / 1.95583\n",
    "    gas_prices['Benzin'][i] = gas_prices['Benzin'][i] / 1.95583\n",
    "    i = i+1\n",
    "\n",
    "# erzeuge DataFrame für Tankdaten\n",
    "dfGas = pd.DataFrame(gas_prices)\n",
    "dfGas['Datum'] = pd.to_datetime(dfGas['Datum'],dayfirst=True)\n",
    "\n",
    "print('DataFrame:')\n",
    "print(dfGas)"
   ]
  },
  {
   "cell_type": "markdown",
   "id": "28ea74a0-45d7-4972-8245-748c42c274d6",
   "metadata": {},
   "source": [
    "#### Zeichne Graph mit Ölpreisen und Tankpreisen seit 1987:"
   ]
  },
  {
   "cell_type": "code",
   "execution_count": null,
   "id": "e189bcdc-1fe6-4290-97a2-58985591349a",
   "metadata": {},
   "outputs": [],
   "source": [
    "fig, ax = plt.subplots(figsize=(10, 4), layout=\"constrained\")\n",
    "\n",
    "# Achsenbeschriftung für plot\n",
    "plt.title(\"Rohölpreise/Tankpreise\", size=\"x-large\")\n",
    "plt.ylabel(\"Preis\")\n",
    "plt.xlabel(\"Zeit\")\n",
    "\n",
    "# erzeuge plot\n",
    "plt.plot(dfOil['date'],dfOil['value'],label='Brent: USD pro Barrel')\n",
    "plt.plot(dfGas['Datum'],dfGas['Diesel'],label='Diesel: ct pro l')\n",
    "plt.plot(dfGas['Datum'],dfGas['Benzin'],label='Benzin: ct pro l')\n",
    "\n",
    "plt.legend()\n",
    "\n",
    "plt.show()\n"
   ]
  },
  {
   "cell_type": "markdown",
   "id": "b63819cc-f009-4250-a648-673987c2c642",
   "metadata": {},
   "source": [
    "#### Zeichne Graph mit Ölpreisen und Tankpreisen für die letzten x-Jahre:\n",
    "Bearbeite hierfür die Variable \"years\""
   ]
  },
  {
   "cell_type": "code",
   "execution_count": null,
   "id": "b74b9a00-9266-4e5c-85cc-981a40369dda",
   "metadata": {},
   "outputs": [],
   "source": [
    "# Gib die Anzhal der Jahre ein\n",
    "years = 4   # max 36\n",
    "\n",
    "\n",
    "# rechne Jahre in Werktage und Monate um\n",
    "days = years * 261\n",
    "\n",
    "if years <= 24:\n",
    "    month = years * 12\n",
    "else:\n",
    "    month = 24*12+(years-24)\n",
    "\n",
    "\n",
    "# spiegele Arrays für Öldaten --> alte Daten müssen zuerst in Array stehen, wie bei dfGas\n",
    "oil_date = dfOil['date'][::-1]\n",
    "oil_price = dfOil['value'][::-1]\n",
    "\n",
    "fig, ax = plt.subplots(figsize=(7, 4), layout=\"constrained\")\n",
    "\n",
    "# Achsenbeschriftung für plot\n",
    "plt.title(\"Rohölpreise/Benzinpreise\", size=\"x-large\")\n",
    "plt.ylabel(\"USD pro Barrel\")\n",
    "plt.xlabel(\"Zeit\")\n",
    "\n",
    "# erzeuge plot\n",
    "plt.plot(oil_date[-days:],oil_price[-days:],label='Brent: USD pro Barrel')\n",
    "plt.plot(dfGas['Datum'][-month:],dfGas['Diesel'][-month:],label='Diesel: ct pro l')\n",
    "plt.plot(dfGas['Datum'][-month:],dfGas['Benzin'][-month:],label='Benzin: ct pro l')\n",
    "\n",
    "plt.legend()\n",
    "\n",
    "plt.show()\n"
   ]
  },
  {
   "cell_type": "markdown",
   "id": "96c5ef88-e9cf-42bd-9f57-bcceb25e583f",
   "metadata": {},
   "source": [
    "#### Monatlicher Durchschnitt\n",
    "Historische Öldaten werden nach Monaten gruppiert und es wird der Durchschnitt pro Monat gebildet.\n",
    "Dies ist eine Vorarbeit für die Berechnung der Korrelation zwichen Ölpreisen und Tankpreisen.\n",
    "Die Ölpreise müssen für die Berechnung der Korrelation monatsweise vorliegen, da die Tankpreise ebenfalls nur monatlich erfasst wurden."
   ]
  },
  {
   "cell_type": "code",
   "execution_count": null,
   "id": "f00c0ee4-ec4a-4c6e-bc67-ae56cc879ba9",
   "metadata": {},
   "outputs": [],
   "source": [
    "# gruppiere Öldaten nach Jahren/Monaten\n",
    "groupedOil= dfOil.groupby(dfOil.date.dt.to_period(\"M\"))\n",
    "\n",
    "#bilde Durchschnittswert pro Monat\n",
    "averageOil = groupedOil['value'].mean()"
   ]
  },
  {
   "cell_type": "markdown",
   "id": "eafb30db-3388-43b1-87fe-be445a51fb96",
   "metadata": {},
   "source": [
    "#### Berechne den Korrelationkoeffizienten für Rohöl und Diesel seit 1987:"
   ]
  },
  {
   "cell_type": "code",
   "execution_count": null,
   "id": "4020b5c5-38f4-4b98-871a-099235eaa2e2",
   "metadata": {},
   "outputs": [],
   "source": [
    "# Korrelation Diesel\n",
    "\n",
    "# Anzahl der Jahre, welche für Korrelation berücksichtigt werden\n",
    "years = 24      # max 24\n",
    "\n",
    "month = years * 12\n",
    "\n",
    "# berechne Korrelationskoeffizienten\n",
    "coef = np.corrcoef(averageOil[-month:], gas_prices['Diesel'][-month:])[0,1]\n",
    "\n",
    "print('Korrelationskoeffizient: ',coef)"
   ]
  },
  {
   "cell_type": "markdown",
   "id": "b03c610f-3a8e-4ce6-80bd-8560bbdc0f66",
   "metadata": {},
   "source": [
    "#### Berechne den Korrelationkoeffizienten für Rohöl und Benzin seit 1987:"
   ]
  },
  {
   "cell_type": "code",
   "execution_count": null,
   "id": "9e224a47-1086-4fc1-b226-cad9a922cb62",
   "metadata": {},
   "outputs": [],
   "source": [
    "# Korrelation Benzin\n",
    "\n",
    "# Anzahl der Jahre, welche für Korrelation berücksichtigt werden\n",
    "years = 24      # max 24\n",
    "\n",
    "month = years * 12\n",
    "\n",
    "# berechne Korrelationskoeffizienten\n",
    "coef = np.corrcoef(averageOil[-month:], gas_prices['Benzin'][-month:])[0,1]\n",
    "\n",
    "print('Korrelationskoeffizient: ',coef)"
   ]
  },
  {
   "cell_type": "markdown",
   "id": "38543c55-163b-4b7a-b98b-0a74bddf32aa",
   "metadata": {},
   "source": [
    "#### Stelle die Korrelationskoeffizienten für Rohöl/Diesel und für Rohöl/Benzin als zeitlichen Verlauf dar:"
   ]
  },
  {
   "cell_type": "code",
   "execution_count": null,
   "id": "2b95185c-1b8b-45ce-be20-496ed70210f3",
   "metadata": {},
   "outputs": [],
   "source": [
    "import datetime\n",
    "\n",
    "year = []\n",
    "coefDiesel = []\n",
    "coefGas = []\n",
    "month = 12\n",
    "\n",
    "today = datetime.datetime.now().date()\n",
    "currentYear = int(today.strftime('%Y'))\n",
    "\n",
    "# kummuliert\n",
    "for i in range(currentYear,1999,-1):\n",
    "    year.append(i)\n",
    "    coefVar = np.corrcoef(averageOil[-month:], gas_prices['Benzin'][-month:])[0,1]\n",
    "    coefGas.append(coefVar)\n",
    "    coefVar = np.corrcoef(averageOil[-month:], gas_prices['Diesel'][-month:])[0,1]\n",
    "    coefDiesel.append(coefVar)\n",
    "    month = month + 12\n",
    "\n",
    "\n",
    "# Achsenbeschriftung für plot\n",
    "plt.title(\"Korrelationsentwicklung\", size=\"x-large\")\n",
    "plt.ylabel(\"Korrelationskoeffizient\")\n",
    "plt.xlabel(\"Zeit\")\n",
    "\n",
    "# erzeuge plot\n",
    "plt.plot(year,coefGas,label='Rohöl/Benzin Ø=' + str(format(np.average(coefGas), '.2f')))\n",
    "plt.plot(year,coefDiesel,label='Rohöl/Diesel Ø=' + str(format(np.average(coefDiesel), '.2f')))\n",
    "\n",
    "plt.legend()\n",
    "\n",
    "plt.show()\n",
    "  \n"
   ]
  },
  {
   "cell_type": "code",
   "execution_count": null,
   "id": "df070103-b2f8-444e-8356-28b112bcf052",
   "metadata": {},
   "outputs": [],
   "source": []
  }
 ],
 "metadata": {
  "kernelspec": {
   "display_name": "Python 3 (ipykernel)",
   "language": "python",
   "name": "python3"
  },
  "language_info": {
   "codemirror_mode": {
    "name": "ipython",
    "version": 3
   },
   "file_extension": ".py",
   "mimetype": "text/x-python",
   "name": "python",
   "nbconvert_exporter": "python",
   "pygments_lexer": "ipython3",
   "version": "3.10.0"
  }
 },
 "nbformat": 4,
 "nbformat_minor": 5
}
